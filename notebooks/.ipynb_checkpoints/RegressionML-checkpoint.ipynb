{
 "cells": [
  {
   "cell_type": "code",
   "execution_count": 13,
   "metadata": {},
   "outputs": [],
   "source": [
    "import pandas as pd \n",
    "from sklearn.model_selection import train_test_split\n",
    "import matplotlib.pyplot as plt\n",
    "from sklearn.linear_model import LogisticRegression\n",
    "import tensorflow as tf\n",
    "import datetime\n",
    "import time\n",
    "\n",
    "%matplotlib inline  "
   ]
  },
  {
   "cell_type": "code",
   "execution_count": 14,
   "metadata": {
    "scrolled": false
   },
   "outputs": [
    {
     "data": {
      "text/html": [
       "<div>\n",
       "<style scoped>\n",
       "    .dataframe tbody tr th:only-of-type {\n",
       "        vertical-align: middle;\n",
       "    }\n",
       "\n",
       "    .dataframe tbody tr th {\n",
       "        vertical-align: top;\n",
       "    }\n",
       "\n",
       "    .dataframe thead th {\n",
       "        text-align: right;\n",
       "    }\n",
       "</style>\n",
       "<table border=\"1\" class=\"dataframe\">\n",
       "  <thead>\n",
       "    <tr style=\"text-align: right;\">\n",
       "      <th></th>\n",
       "      <th>Unnamed: 0</th>\n",
       "      <th>Priority</th>\n",
       "      <th>RaisedByID</th>\n",
       "      <th>AssignedToID</th>\n",
       "      <th>AuthorisedByID</th>\n",
       "      <th>StatusCode</th>\n",
       "      <th>ProjectCode</th>\n",
       "      <th>Category</th>\n",
       "      <th>SubCategory</th>\n",
       "      <th>HoursEstimate</th>\n",
       "      <th>HoursActual</th>\n",
       "    </tr>\n",
       "  </thead>\n",
       "  <tbody>\n",
       "    <tr>\n",
       "      <th>0</th>\n",
       "      <td>0</td>\n",
       "      <td>0.000000</td>\n",
       "      <td>0.863636</td>\n",
       "      <td>0.890625</td>\n",
       "      <td>0.0</td>\n",
       "      <td>0.714286</td>\n",
       "      <td>0.578947</td>\n",
       "      <td>0.0</td>\n",
       "      <td>0.304348</td>\n",
       "      <td>0.015374</td>\n",
       "      <td>0.000699</td>\n",
       "    </tr>\n",
       "    <tr>\n",
       "      <th>1</th>\n",
       "      <td>1</td>\n",
       "      <td>0.000000</td>\n",
       "      <td>0.863636</td>\n",
       "      <td>0.640625</td>\n",
       "      <td>0.0</td>\n",
       "      <td>0.714286</td>\n",
       "      <td>0.578947</td>\n",
       "      <td>0.0</td>\n",
       "      <td>0.304348</td>\n",
       "      <td>0.007681</td>\n",
       "      <td>0.002807</td>\n",
       "    </tr>\n",
       "    <tr>\n",
       "      <th>2</th>\n",
       "      <td>2</td>\n",
       "      <td>0.111111</td>\n",
       "      <td>0.090909</td>\n",
       "      <td>0.890625</td>\n",
       "      <td>0.0</td>\n",
       "      <td>0.714286</td>\n",
       "      <td>0.578947</td>\n",
       "      <td>1.0</td>\n",
       "      <td>0.391304</td>\n",
       "      <td>0.000758</td>\n",
       "      <td>0.000277</td>\n",
       "    </tr>\n",
       "    <tr>\n",
       "      <th>3</th>\n",
       "      <td>3</td>\n",
       "      <td>0.444444</td>\n",
       "      <td>0.742424</td>\n",
       "      <td>0.640625</td>\n",
       "      <td>0.0</td>\n",
       "      <td>0.714286</td>\n",
       "      <td>0.578947</td>\n",
       "      <td>0.0</td>\n",
       "      <td>0.043478</td>\n",
       "      <td>0.000758</td>\n",
       "      <td>0.000277</td>\n",
       "    </tr>\n",
       "    <tr>\n",
       "      <th>4</th>\n",
       "      <td>4</td>\n",
       "      <td>1.000000</td>\n",
       "      <td>0.681818</td>\n",
       "      <td>0.187500</td>\n",
       "      <td>0.0</td>\n",
       "      <td>0.714286</td>\n",
       "      <td>0.578947</td>\n",
       "      <td>0.0</td>\n",
       "      <td>0.043478</td>\n",
       "      <td>0.003835</td>\n",
       "      <td>0.001402</td>\n",
       "    </tr>\n",
       "  </tbody>\n",
       "</table>\n",
       "</div>"
      ],
      "text/plain": [
       "   Unnamed: 0  Priority  RaisedByID  AssignedToID  AuthorisedByID  StatusCode  \\\n",
       "0           0  0.000000    0.863636      0.890625             0.0    0.714286   \n",
       "1           1  0.000000    0.863636      0.640625             0.0    0.714286   \n",
       "2           2  0.111111    0.090909      0.890625             0.0    0.714286   \n",
       "3           3  0.444444    0.742424      0.640625             0.0    0.714286   \n",
       "4           4  1.000000    0.681818      0.187500             0.0    0.714286   \n",
       "\n",
       "   ProjectCode  Category  SubCategory  HoursEstimate  HoursActual  \n",
       "0     0.578947       0.0     0.304348       0.015374     0.000699  \n",
       "1     0.578947       0.0     0.304348       0.007681     0.002807  \n",
       "2     0.578947       1.0     0.391304       0.000758     0.000277  \n",
       "3     0.578947       0.0     0.043478       0.000758     0.000277  \n",
       "4     0.578947       0.0     0.043478       0.003835     0.001402  "
      ]
     },
     "execution_count": 14,
     "metadata": {},
     "output_type": "execute_result"
    }
   ],
   "source": [
    "data = pd.read_csv('../SiP_dataset-master/SIP_CAT.csv', encoding='cp1252') \n",
    "data.head()"
   ]
  },
  {
   "cell_type": "markdown",
   "metadata": {},
   "source": [
    "## Machine Learning"
   ]
  },
  {
   "cell_type": "code",
   "execution_count": 15,
   "metadata": {},
   "outputs": [],
   "source": [
    "TRAIN_AND_VALIDATION_TEST_SPLIT = 0.3\n",
    "VALID_AND_TEST_SPLIT            = 0.5\n",
    "BATCH_SIZE                      = 10\n",
    "relevent_attributes=[\"Priority\",\"RaisedByID\",\"AssignedToID\",\"StatusCode\",\\\n",
    "                     \"ProjectCode\",\"Category\",\"SubCategory\",\"HoursEstimate\",\"HoursActual\"]\n",
    "data = data[relevent_attributes]\n",
    "\n",
    "ROW_COUNT = max(data.count())\n",
    "X_attributes=[\"Priority\",\"RaisedByID\",\"AssignedToID\",\"StatusCode\",\\\n",
    "                     \"ProjectCode\",\"Category\",\"SubCategory\",\"HoursEstimate\"]\n",
    "Y_attributes=[\"HoursActual\"]"
   ]
  },
  {
   "cell_type": "code",
   "execution_count": 16,
   "metadata": {},
   "outputs": [],
   "source": [
    "def set_curr_time():\n",
    "    dt = datetime.datetime.now()\n",
    "    curr_dt = '{0}{1}{2}_{3}_{4}'.format(datetime.datetime.now().year, datetime.datetime.now().month,\n",
    "                                       datetime.datetime.now().day, datetime.datetime.now().hour,\n",
    "                                      datetime.datetime.now().minute)\n",
    "    return curr_dt"
   ]
  },
  {
   "cell_type": "code",
   "execution_count": 17,
   "metadata": {},
   "outputs": [
    {
     "name": "stdout",
     "output_type": "stream",
     "text": [
      "Train examples: (8609, 8)\n",
      "Valid examples: (1845, 8)\n",
      "Test examples: (1845, 8)\n"
     ]
    }
   ],
   "source": [
    "# HoursEstimate_filter=HoursEstimate[HoursEstimate[\"HoursEstimate\"]<200]\n",
    "# HoursEstimate_filter=HoursEstimate_filter[HoursEstimate_filter[\"HoursActual\"]<800]\n",
    "\n",
    "x_train_label, xx_test_label, y_train_label, yy_test_label \\\n",
    "              = train_test_split(data[X_attributes].values[:], data[Y_attributes].values[:], test_size=TRAIN_AND_VALIDATION_TEST_SPLIT)\n",
    "x_valid_label, x_test_label, y_valid_label, y_test_label \\\n",
    "              = train_test_split(xx_test_label, yy_test_label, test_size=VALID_AND_TEST_SPLIT)  \n",
    "\n",
    "print(\"Train examples: {}\".format(x_train_label.shape))\n",
    "print(\"Valid examples: {}\".format(x_valid_label.shape))\n",
    "print(\"Test examples: {}\".format(x_test_label.shape))"
   ]
  },
  {
   "cell_type": "code",
   "execution_count": null,
   "metadata": {
    "scrolled": true
   },
   "outputs": [
    {
     "name": "stdout",
     "output_type": "stream",
     "text": [
      "Epoch 1/30\n",
      "1230/1230 [==============================] - 687s 558ms/step - loss: 5.7054e-04 - acc: 3.2515e-04 - val_loss: 6.6476e-04 - val_acc: 0.0000e+00\n",
      "Epoch 2/30\n",
      "1230/1230 [==============================] - 600s 488ms/step - loss: 3.0556e-04 - acc: 5.1459e-04 - val_loss: 8.5377e-04 - val_acc: 0.0000e+00\n",
      "Epoch 3/30\n",
      "1230/1230 [==============================] - 653s 531ms/step - loss: 2.4740e-04 - acc: 5.9892e-04 - val_loss: 7.3271e-04 - val_acc: 0.0000e+00\n",
      "Epoch 4/30\n",
      "1230/1230 [==============================] - 677s 551ms/step - loss: 2.4251e-04 - acc: 6.0402e-04 - val_loss: 6.3468e-04 - val_acc: 0.0000e+00\n",
      "Epoch 5/30\n",
      "1230/1230 [==============================] - 565s 460ms/step - loss: 2.3162e-04 - acc: 6.2432e-04 - val_loss: 5.8169e-04 - val_acc: 0.0000e+00\n",
      "Epoch 6/30\n",
      "1230/1230 [==============================] - 577s 469ms/step - loss: 2.3198e-04 - acc: 6.1771e-04 - val_loss: 6.5129e-04 - val_acc: 0.0000e+00\n",
      "Epoch 7/30\n",
      "1230/1230 [==============================] - 583s 474ms/step - loss: 2.2893e-04 - acc: 6.1988e-04 - val_loss: 6.3280e-04 - val_acc: 0.0000e+00\n",
      "Epoch 8/30\n",
      " 760/1230 [=================>............] - ETA: 3:37 - loss: 2.2494e-04 - acc: 6.3291e-04"
     ]
    }
   ],
   "source": [
    "model = tf.keras.models.Sequential([\n",
    "    tf.keras.layers.Dense(512, activation=tf.nn.relu),\n",
    "    tf.keras.layers.Dropout(0.4),\n",
    "    tf.keras.layers.Dense(256, activation=tf.nn.relu),\n",
    "    tf.keras.layers.Dropout(0.4),\n",
    "    tf.keras.layers.Dense(128, activation=tf.nn.relu),\n",
    "    tf.keras.layers.Dropout(0.4),\n",
    "    tf.keras.layers.Dense(1)\n",
    "])\n",
    "\n",
    "model.compile(optimizer='adam',\n",
    "              loss='mean_squared_error',\n",
    "              metrics=['accuracy'])\n",
    "\n",
    "curr_dt = set_curr_time()\n",
    "tb_callback = tf.keras.callbacks.TensorBoard(log_dir='../logs/{0}'.format(curr_dt), histogram_freq=0, write_graph=True)\n",
    "\n",
    "tic = time.time()\n",
    "model.fit(\n",
    "    x_train_label,\n",
    "    y_train_label,\n",
    "    epochs = 30,\n",
    "    batch_size = BATCH_SIZE,\n",
    "    validation_data = (x_valid_label, y_valid_label),\n",
    "    shuffle = True,\n",
    "    steps_per_epoch = round(ROW_COUNT/BATCH_SIZE),\n",
    "    callbacks=[tb_callback])\n",
    "toc = time.time()\n",
    "\n",
    "print('---Test loss & accuracy---')\n",
    "model.evaluate(x_test_label, y_test_label)\n",
    "print('Training time:{}'.format(toc-tic))"
   ]
  },
  {
   "cell_type": "code",
   "execution_count": null,
   "metadata": {},
   "outputs": [],
   "source": []
  }
 ],
 "metadata": {
  "kernelspec": {
   "display_name": "Python 3",
   "language": "python",
   "name": "python3"
  },
  "language_info": {
   "codemirror_mode": {
    "name": "ipython",
    "version": 3
   },
   "file_extension": ".py",
   "mimetype": "text/x-python",
   "name": "python",
   "nbconvert_exporter": "python",
   "pygments_lexer": "ipython3",
   "version": "3.5.2"
  }
 },
 "nbformat": 4,
 "nbformat_minor": 2
}
