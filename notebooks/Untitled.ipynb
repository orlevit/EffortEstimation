{
 "cells": [
  {
   "cell_type": "code",
   "execution_count": 1,
   "metadata": {},
   "outputs": [
    {
     "name": "stderr",
     "output_type": "stream",
     "text": [
      "Using TensorFlow backend.\n"
     ]
    }
   ],
   "source": [
    "# Imports\n",
    "import pandas as pd \n",
    "from sklearn.model_selection import train_test_split\n",
    "import matplotlib.pyplot as plt\n",
    "from sklearn.linear_model import LogisticRegression\n",
    "import tensorflow as tf\n",
    "import datetime\n",
    "import time\n",
    "import numpy as np\n",
    "from keras.callbacks import ModelCheckpoint\n",
    "from keras.models import Sequential\n",
    "from keras.layers import Dense, Dropout, Activation, Flatten\n",
    "from keras import regularizers\n",
    "from keras.callbacks import EarlyStopping\n",
    "\n",
    "np.random.seed(7)\n",
    "\n",
    "# Constants\n",
    "TRAIN_AND_VALIDATION_TEST_SPLIT = 0.3\n",
    "VALID_AND_TEST_SPLIT            = 0.5\n",
    "BATCH_SIZE                      = 10\n",
    "\n",
    "relevent_attributes=[\"Priority\",\"RaisedByID\",\"AssignedToID\",\"StatusCode\",\\\n",
    "                     \"ProjectCode\",\"Category\",\"SubCategory\",\"HoursEstimate\",\"HoursActual\"]\n",
    "X_attributes=[\"Priority\",\"RaisedByID\",\"AssignedToID\",\"StatusCode\",\\\n",
    "                     \"ProjectCode\",\"Category\",\"SubCategory\",\"HoursEstimate\"]\n",
    "Y_attributes=[\"HoursActual\"]\n",
    "\n",
    "%matplotlib inline  "
   ]
  },
  {
   "cell_type": "code",
   "execution_count": 2,
   "metadata": {},
   "outputs": [],
   "source": [
    "def set_curr_time():\n",
    "    dt = datetime.datetime.now()\n",
    "    curr_dt = '{0}{1}{2}_{3}_{4}'.format(datetime.datetime.now().year, datetime.datetime.now().month,\n",
    "                                       datetime.datetime.now().day, datetime.datetime.now().hour,\n",
    "                                      datetime.datetime.now().minute)\n",
    "    return curr_dt"
   ]
  },
  {
   "cell_type": "code",
   "execution_count": 3,
   "metadata": {},
   "outputs": [],
   "source": [
    "import numpy as np\n",
    "import pandas as pd\n",
    "import numpy as np\n",
    "import pandas as pd\n",
    "import keras\n",
    "from keras.models import Sequential\n",
    "from keras.layers import Dense, BatchNormalization\n",
    "from keras.layers import Input, Embedding, Dense\n",
    "from keras.models import Model\n",
    "from keras.callbacks import Callback\n",
    "import matplotlib.pyplot as plt\n",
    "\n",
    "# Bayesian Methods for Hackers style sheet\n",
    "plt.style.use('bmh')\n",
    "np.random.seed(1234567890)"
   ]
  },
  {
   "cell_type": "code",
   "execution_count": 4,
   "metadata": {},
   "outputs": [],
   "source": [
    "class PeriodicLogger(Callback):\n",
    "    \"\"\"\n",
    "    A helper callback class that only prints the losses once in 'display' epochs\n",
    "    \"\"\"\n",
    "\n",
    "    def __init__(self, display=100):\n",
    "        self.display = display\n",
    "\n",
    "\n",
    "def on_train_begin(self, logs={}):\n",
    "    self.epochs = 0\n",
    "\n",
    "\n",
    "def on_epoch_end(self, batch, logs={}):\n",
    "    self.epochs += 1\n",
    "    if self.epochs % self.display == 0:\n",
    "        print (\"Epoch: %d - loss: %f - val_loss: %f\" % (self.epochs, logs['loss'], logs['val_loss']))\n",
    "\n",
    "\n",
    "periodic_logger_250 = PeriodicLogger(250)"
   ]
  },
  {
   "cell_type": "code",
   "execution_count": null,
   "metadata": {},
   "outputs": [],
   "source": []
  }
 ],
 "metadata": {
  "kernelspec": {
   "display_name": "Python 3",
   "language": "python",
   "name": "python3"
  },
  "language_info": {
   "codemirror_mode": {
    "name": "ipython",
    "version": 3
   },
   "file_extension": ".py",
   "mimetype": "text/x-python",
   "name": "python",
   "nbconvert_exporter": "python",
   "pygments_lexer": "ipython3",
   "version": "3.6.7"
  }
 },
 "nbformat": 4,
 "nbformat_minor": 2
}
