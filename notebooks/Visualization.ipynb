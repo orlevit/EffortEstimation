{
 "cells": [
  {
   "cell_type": "code",
   "execution_count": 1,
   "metadata": {},
   "outputs": [],
   "source": [
    "import pandas as pd \n",
    "from sklearn.model_selection import train_test_split\n",
    "import matplotlib.pyplot as plt\n",
    "from sklearn.linear_model import LogisticRegression\n",
    "\n",
    "%matplotlib inline  "
   ]
  },
  {
   "cell_type": "code",
   "execution_count": 2,
   "metadata": {
    "scrolled": true
   },
   "outputs": [
    {
     "data": {
      "text/html": [
       "<div>\n",
       "<style scoped>\n",
       "    .dataframe tbody tr th:only-of-type {\n",
       "        vertical-align: middle;\n",
       "    }\n",
       "\n",
       "    .dataframe tbody tr th {\n",
       "        vertical-align: top;\n",
       "    }\n",
       "\n",
       "    .dataframe thead th {\n",
       "        text-align: right;\n",
       "    }\n",
       "</style>\n",
       "<table border=\"1\" class=\"dataframe\">\n",
       "  <thead>\n",
       "    <tr style=\"text-align: right;\">\n",
       "      <th></th>\n",
       "      <th>TaskNumber</th>\n",
       "      <th>Summary</th>\n",
       "      <th>Priority</th>\n",
       "      <th>RaisedByID</th>\n",
       "      <th>AssignedToID</th>\n",
       "      <th>AuthorisedByID</th>\n",
       "      <th>StatusCode</th>\n",
       "      <th>ProjectCode</th>\n",
       "      <th>ProjectBreakdownCode</th>\n",
       "      <th>Category</th>\n",
       "      <th>SubCategory</th>\n",
       "      <th>HoursEstimate</th>\n",
       "      <th>HoursActual</th>\n",
       "      <th>DeveloperID</th>\n",
       "      <th>DeveloperHoursActual</th>\n",
       "      <th>TaskPerformance</th>\n",
       "      <th>DeveloperPerformance</th>\n",
       "    </tr>\n",
       "  </thead>\n",
       "  <tbody>\n",
       "    <tr>\n",
       "      <th>0</th>\n",
       "      <td>1735</td>\n",
       "      <td>Flag RI on SCM Message Summary screen using me...</td>\n",
       "      <td>1</td>\n",
       "      <td>58</td>\n",
       "      <td>58</td>\n",
       "      <td>6.0</td>\n",
       "      <td>FINISHED</td>\n",
       "      <td>PC2</td>\n",
       "      <td>PBC42</td>\n",
       "      <td>Development</td>\n",
       "      <td>Enhancement</td>\n",
       "      <td>14.0</td>\n",
       "      <td>1.75</td>\n",
       "      <td>58</td>\n",
       "      <td>1.75</td>\n",
       "      <td>12.25</td>\n",
       "      <td>12.25</td>\n",
       "    </tr>\n",
       "    <tr>\n",
       "      <th>1</th>\n",
       "      <td>1742</td>\n",
       "      <td>Allow RI Policies to be marked as Exhausted</td>\n",
       "      <td>1</td>\n",
       "      <td>58</td>\n",
       "      <td>42</td>\n",
       "      <td>6.0</td>\n",
       "      <td>FINISHED</td>\n",
       "      <td>PC2</td>\n",
       "      <td>PBC21</td>\n",
       "      <td>Development</td>\n",
       "      <td>Enhancement</td>\n",
       "      <td>7.0</td>\n",
       "      <td>7.00</td>\n",
       "      <td>42</td>\n",
       "      <td>7.00</td>\n",
       "      <td>0.00</td>\n",
       "      <td>0.00</td>\n",
       "    </tr>\n",
       "    <tr>\n",
       "      <th>2</th>\n",
       "      <td>1971</td>\n",
       "      <td>Fix Invalid UWREF Line DX402L99A1N</td>\n",
       "      <td>2</td>\n",
       "      <td>7</td>\n",
       "      <td>58</td>\n",
       "      <td>6.0</td>\n",
       "      <td>FINISHED</td>\n",
       "      <td>PC2</td>\n",
       "      <td>PBC75</td>\n",
       "      <td>Operational</td>\n",
       "      <td>In House Support</td>\n",
       "      <td>0.7</td>\n",
       "      <td>0.70</td>\n",
       "      <td>58</td>\n",
       "      <td>0.70</td>\n",
       "      <td>0.00</td>\n",
       "      <td>0.00</td>\n",
       "    </tr>\n",
       "    <tr>\n",
       "      <th>3</th>\n",
       "      <td>2134</td>\n",
       "      <td>New rows in the diary event for the SCM are re...</td>\n",
       "      <td>5</td>\n",
       "      <td>50</td>\n",
       "      <td>42</td>\n",
       "      <td>6.0</td>\n",
       "      <td>FINISHED</td>\n",
       "      <td>PC2</td>\n",
       "      <td>PBC42</td>\n",
       "      <td>Development</td>\n",
       "      <td>Bug</td>\n",
       "      <td>0.7</td>\n",
       "      <td>0.70</td>\n",
       "      <td>42</td>\n",
       "      <td>0.70</td>\n",
       "      <td>0.00</td>\n",
       "      <td>0.00</td>\n",
       "    </tr>\n",
       "    <tr>\n",
       "      <th>4</th>\n",
       "      <td>2251</td>\n",
       "      <td>Application Screen Size - Need to set Min Size...</td>\n",
       "      <td>10</td>\n",
       "      <td>46</td>\n",
       "      <td>13</td>\n",
       "      <td>6.0</td>\n",
       "      <td>FINISHED</td>\n",
       "      <td>PC2</td>\n",
       "      <td>PBC21</td>\n",
       "      <td>Development</td>\n",
       "      <td>Bug</td>\n",
       "      <td>3.5</td>\n",
       "      <td>3.50</td>\n",
       "      <td>13</td>\n",
       "      <td>3.50</td>\n",
       "      <td>0.00</td>\n",
       "      <td>0.00</td>\n",
       "    </tr>\n",
       "  </tbody>\n",
       "</table>\n",
       "</div>"
      ],
      "text/plain": [
       "   TaskNumber                                            Summary  Priority  \\\n",
       "0        1735  Flag RI on SCM Message Summary screen using me...         1   \n",
       "1        1742        Allow RI Policies to be marked as Exhausted         1   \n",
       "2        1971                 Fix Invalid UWREF Line DX402L99A1N         2   \n",
       "3        2134  New rows in the diary event for the SCM are re...         5   \n",
       "4        2251  Application Screen Size - Need to set Min Size...        10   \n",
       "\n",
       "   RaisedByID  AssignedToID  AuthorisedByID StatusCode ProjectCode  \\\n",
       "0          58            58             6.0   FINISHED         PC2   \n",
       "1          58            42             6.0   FINISHED         PC2   \n",
       "2           7            58             6.0   FINISHED         PC2   \n",
       "3          50            42             6.0   FINISHED         PC2   \n",
       "4          46            13             6.0   FINISHED         PC2   \n",
       "\n",
       "  ProjectBreakdownCode     Category       SubCategory  HoursEstimate  \\\n",
       "0                PBC42  Development       Enhancement           14.0   \n",
       "1                PBC21  Development       Enhancement            7.0   \n",
       "2                PBC75  Operational  In House Support            0.7   \n",
       "3                PBC42  Development               Bug            0.7   \n",
       "4                PBC21  Development               Bug            3.5   \n",
       "\n",
       "   HoursActual  DeveloperID  DeveloperHoursActual  TaskPerformance  \\\n",
       "0         1.75           58                  1.75            12.25   \n",
       "1         7.00           42                  7.00             0.00   \n",
       "2         0.70           58                  0.70             0.00   \n",
       "3         0.70           42                  0.70             0.00   \n",
       "4         3.50           13                  3.50             0.00   \n",
       "\n",
       "   DeveloperPerformance  \n",
       "0                 12.25  \n",
       "1                  0.00  \n",
       "2                  0.00  \n",
       "3                  0.00  \n",
       "4                  0.00  "
      ]
     },
     "execution_count": 2,
     "metadata": {},
     "output_type": "execute_result"
    }
   ],
   "source": [
    "data = pd.read_csv('./SiP_dataset-master/Sip-task-info.csv', encoding='cp1252') \n",
    "data.head()"
   ]
  },
  {
   "cell_type": "markdown",
   "metadata": {},
   "source": [
    "## Plot graphs"
   ]
  },
  {
   "cell_type": "code",
   "execution_count": 3,
   "metadata": {},
   "outputs": [],
   "source": [
    "HoursEstimate = data[\"HoursEstimate\"] \n",
    "HoursActual   = data[\"HoursActual\"] "
   ]
  },
  {
   "cell_type": "code",
   "execution_count": 4,
   "metadata": {},
   "outputs": [
    {
     "data": {
      "image/png": "[encoded data removed]",
      "text/plain": [
       "<Figure size 432x288 with 1 Axes>"
      ]
     },
     "metadata": {
      "needs_background": "light"
     },
     "output_type": "display_data"
    }
   ],
   "source": [
    "plt.scatter(HoursEstimate, HoursActual)\n",
    "plt.title('estimate VS Actual')\n",
    "plt.show()"
   ]
  },
  {
   "cell_type": "code",
   "execution_count": 5,
   "metadata": {},
   "outputs": [
    {
     "data": {
      "image/png": "[encoded data removed]",
      "text/plain": [
       "<Figure size 432x288 with 1 Axes>"
      ]
     },
     "metadata": {
      "needs_background": "light"
     },
     "output_type": "display_data"
    }
   ],
   "source": [
    "HoursEstimate = data[[\"HoursEstimate\",\"HoursActual\"]]\n",
    "HoursEstimate_filter=HoursEstimate[HoursEstimate[\"HoursEstimate\"]<200]\n",
    "HoursEstimate_filter=HoursEstimate_filter[HoursEstimate_filter[\"HoursActual\"]<800]\n",
    "plt.scatter(HoursEstimate_filter[\"HoursEstimate\"], HoursEstimate_filter[\"HoursActual\"])\n",
    "plt.title('estimate VS Actual focus')\n",
    "plt.show()"
   ]
  },
  {
   "cell_type": "code",
   "execution_count": null,
   "metadata": {},
   "outputs": [],
   "source": []
  }
 ],
 "metadata": {
  "kernelspec": {
   "display_name": "Python 3",
   "language": "python",
   "name": "python3"
  },
  "language_info": {
   "codemirror_mode": {
    "name": "ipython",
    "version": 3
   },
   "file_extension": ".py",
   "mimetype": "text/x-python",
   "name": "python",
   "nbconvert_exporter": "python",
   "pygments_lexer": "ipython3",
   "version": "3.5.2"
  }
 },
 "nbformat": 4,
 "nbformat_minor": 2
}
